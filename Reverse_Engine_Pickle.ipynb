{
  "nbformat": 4,
  "nbformat_minor": 0,
  "metadata": {
    "colab": {
      "name": "Reverse Engine Pickle.ipynb",
      "provenance": [],
      "collapsed_sections": []
    },
    "kernelspec": {
      "name": "python3",
      "display_name": "Python 3"
    }
  },
  "cells": [
    {
      "cell_type": "code",
      "metadata": {
        "id": "4gt1_QzZd_xz",
        "colab_type": "code",
        "colab": {
          "base_uri": "https://localhost:8080/",
          "height": 309
        },
        "outputId": "2d568607-4f34-4bce-d41e-cc1449b15a00"
      },
      "source": [
        "import sys\n",
        "!{sys.executable} -m pip install pickle5 dill pandas"
      ],
      "execution_count": 1,
      "outputs": [
        {
          "output_type": "stream",
          "text": [
            "Collecting pickle5\n",
            "\u001b[?25l  Downloading https://files.pythonhosted.org/packages/cd/5a/cbdf36134804809d55ffd4c248343bd36680a92b6425885a3fd204d32f7b/pickle5-0.0.9.tar.gz (129kB)\n",
            "\r\u001b[K     |██▌                             | 10kB 21.0MB/s eta 0:00:01\r\u001b[K     |█████                           | 20kB 1.7MB/s eta 0:00:01\r\u001b[K     |███████▋                        | 30kB 2.5MB/s eta 0:00:01\r\u001b[K     |██████████                      | 40kB 1.7MB/s eta 0:00:01\r\u001b[K     |████████████▋                   | 51kB 2.1MB/s eta 0:00:01\r\u001b[K     |███████████████▏                | 61kB 2.5MB/s eta 0:00:01\r\u001b[K     |█████████████████▊              | 71kB 2.8MB/s eta 0:00:01\r\u001b[K     |████████████████████▏           | 81kB 2.2MB/s eta 0:00:01\r\u001b[K     |██████████████████████▊         | 92kB 2.5MB/s eta 0:00:01\r\u001b[K     |█████████████████████████▎      | 102kB 2.7MB/s eta 0:00:01\r\u001b[K     |███████████████████████████▊    | 112kB 2.7MB/s eta 0:00:01\r\u001b[K     |██████████████████████████████▎ | 122kB 2.7MB/s eta 0:00:01\r\u001b[K     |████████████████████████████████| 133kB 2.7MB/s \n",
            "\u001b[?25hRequirement already satisfied: dill in /usr/local/lib/python3.6/dist-packages (0.3.1.1)\n",
            "Requirement already satisfied: pandas in /usr/local/lib/python3.6/dist-packages (1.0.3)\n",
            "Requirement already satisfied: numpy>=1.13.3 in /usr/local/lib/python3.6/dist-packages (from pandas) (1.18.2)\n",
            "Requirement already satisfied: python-dateutil>=2.6.1 in /usr/local/lib/python3.6/dist-packages (from pandas) (2.8.1)\n",
            "Requirement already satisfied: pytz>=2017.2 in /usr/local/lib/python3.6/dist-packages (from pandas) (2018.9)\n",
            "Requirement already satisfied: six>=1.5 in /usr/local/lib/python3.6/dist-packages (from python-dateutil>=2.6.1->pandas) (1.12.0)\n",
            "Building wheels for collected packages: pickle5\n",
            "  Building wheel for pickle5 (setup.py) ... \u001b[?25l\u001b[?25hdone\n",
            "  Created wheel for pickle5: filename=pickle5-0.0.9-cp36-cp36m-linux_x86_64.whl size=218020 sha256=da7214cc4e1deddfd3b80764b8b2a6365892d0ae656c78c6cf42c54c1b51a599\n",
            "  Stored in directory: /root/.cache/pip/wheels/89/1c/21/5e2fd8bfc197f237ab442a16d732d2591314229170eb98d290\n",
            "Successfully built pickle5\n",
            "Installing collected packages: pickle5\n",
            "Successfully installed pickle5-0.0.9\n"
          ],
          "name": "stdout"
        }
      ]
    },
    {
      "cell_type": "code",
      "metadata": {
        "id": "RqaGVTvqeSll",
        "colab_type": "code",
        "colab": {
          "base_uri": "https://localhost:8080/",
          "height": 51
        },
        "outputId": "f23a9701-bb4c-42a3-c12b-304d1da82c65"
      },
      "source": [
        "import pickle5 as pickle\n",
        "import dill\n",
        "import pandas as pd\n",
        "!ls"
      ],
      "execution_count": 2,
      "outputs": [
        {
          "output_type": "stream",
          "text": [
            "2af9d297-ccab-4c52-9c22-b8820cd150de_ner_256359e1-6797-4a1a-8195-4e59b7bbc189.pickle\n",
            "sample_data\n"
          ],
          "name": "stdout"
        }
      ]
    },
    {
      "cell_type": "code",
      "metadata": {
        "id": "oxSWRPqxeWIy",
        "colab_type": "code",
        "colab": {}
      },
      "source": [
        "def loadPickle():\n",
        "  filename = '2af9d297-ccab-4c52-9c22-b8820cd150de_ner_256359e1-6797-4a1a-8195-4e59b7bbc189.pickle'\n",
        "  infile = open(filename,'rb')\n",
        "  new_dict = pickle.load(infile,encoding='bytes')\n",
        "  infile.close()\n",
        "  return new_dict"
      ],
      "execution_count": 0,
      "outputs": []
    },
    {
      "cell_type": "code",
      "metadata": {
        "id": "eEMdTfiAhSMF",
        "colab_type": "code",
        "colab": {
          "base_uri": "https://localhost:8080/",
          "height": 360
        },
        "outputId": "19a641dd-6dcf-4c30-f37a-eebdfaa1021e"
      },
      "source": [
        "loadPickle()"
      ],
      "execution_count": 17,
      "outputs": [
        {
          "output_type": "stream",
          "text": [
            "/usr/local/lib/python3.6/dist-packages/sklearn/base.py:318: UserWarning: Trying to unpickle estimator DictVectorizer from version 0.21.3 when using version 0.22.2.post1. This might lead to breaking code or invalid results. Use at your own risk.\n",
            "  UserWarning)\n",
            "/usr/local/lib/python3.6/dist-packages/sklearn/base.py:318: UserWarning: Trying to unpickle estimator LogisticRegression from version 0.21.3 when using version 0.22.2.post1. This might lead to breaking code or invalid results. Use at your own risk.\n",
            "  UserWarning)\n",
            "/usr/local/lib/python3.6/dist-packages/sklearn/base.py:318: UserWarning: Trying to unpickle estimator Pipeline from version 0.21.3 when using version 0.22.2.post1. This might lead to breaking code or invalid results. Use at your own risk.\n",
            "  UserWarning)\n"
          ],
          "name": "stderr"
        },
        {
          "output_type": "execute_result",
          "data": {
            "text/plain": [
              "Pipeline(memory=None,\n",
              "         steps=[('vect',\n",
              "                 DictVectorizer(dtype=<class 'numpy.float64'>, separator='=',\n",
              "                                sort=True, sparse=True)),\n",
              "                ('clf',\n",
              "                 LogisticRegression(C=1.0, class_weight=None, dual=False,\n",
              "                                    fit_intercept=True, intercept_scaling=1,\n",
              "                                    l1_ratio=None, max_iter=100,\n",
              "                                    multi_class='auto', n_jobs=None,\n",
              "                                    penalty='l2', random_state=None,\n",
              "                                    solver='lbfgs', tol=0.0001, verbose=0,\n",
              "                                    warm_start=False))],\n",
              "         verbose=False)"
            ]
          },
          "metadata": {
            "tags": []
          },
          "execution_count": 17
        }
      ]
    },
    {
      "cell_type": "code",
      "metadata": {
        "id": "lRVce3Sihh8g",
        "colab_type": "code",
        "colab": {}
      },
      "source": [
        "def loadPicklePandas():\n",
        "  unpickled_df = pd.read_pickle(\"./2af9d297-ccab-4c52-9c22-b8820cd150de_ner_256359e1-6797-4a1a-8195-4e59b7bbc189.pickle\")\n",
        "  return unpickled_df"
      ],
      "execution_count": 0,
      "outputs": []
    },
    {
      "cell_type": "code",
      "metadata": {
        "id": "aMUKi7UY83_y",
        "colab_type": "code",
        "colab": {
          "base_uri": "https://localhost:8080/",
          "height": 238
        },
        "outputId": "b6f424d7-c382-4e49-bb85-1787bf540e8f"
      },
      "source": [
        "loadPicklePandas()"
      ],
      "execution_count": 19,
      "outputs": [
        {
          "output_type": "execute_result",
          "data": {
            "text/plain": [
              "Pipeline(memory=None,\n",
              "         steps=[('vect',\n",
              "                 DictVectorizer(dtype=<class 'numpy.float64'>, separator='=',\n",
              "                                sort=True, sparse=True)),\n",
              "                ('clf',\n",
              "                 LogisticRegression(C=1.0, class_weight=None, dual=False,\n",
              "                                    fit_intercept=True, intercept_scaling=1,\n",
              "                                    l1_ratio=None, max_iter=100,\n",
              "                                    multi_class='auto', n_jobs=None,\n",
              "                                    penalty='l2', random_state=None,\n",
              "                                    solver='lbfgs', tol=0.0001, verbose=0,\n",
              "                                    warm_start=False))],\n",
              "         verbose=False)"
            ]
          },
          "metadata": {
            "tags": []
          },
          "execution_count": 19
        }
      ]
    },
    {
      "cell_type": "code",
      "metadata": {
        "id": "XbFd8EdViYeQ",
        "colab_type": "code",
        "colab": {
          "base_uri": "https://localhost:8080/",
          "height": 139
        },
        "outputId": "d81df219-6cc4-4e7a-ab64-9ef1b6c6698d"
      },
      "source": [
        "datas = loadPickle()\n",
        "valueDictVectorizer = datas.named_steps[\"vect\"].vocabulary_\n",
        "keyDictVectorizer = datas.named_steps[\"vect\"].feature_names_\n",
        "arrayLR = datas.named_steps[\"clf\"].coef_\n",
        "classLR = datas.named_steps[\"clf\"].classes_"
      ],
      "execution_count": 24,
      "outputs": [
        {
          "output_type": "stream",
          "text": [
            "/usr/local/lib/python3.6/dist-packages/sklearn/base.py:318: UserWarning: Trying to unpickle estimator DictVectorizer from version 0.21.3 when using version 0.22.2.post1. This might lead to breaking code or invalid results. Use at your own risk.\n",
            "  UserWarning)\n",
            "/usr/local/lib/python3.6/dist-packages/sklearn/base.py:318: UserWarning: Trying to unpickle estimator LogisticRegression from version 0.21.3 when using version 0.22.2.post1. This might lead to breaking code or invalid results. Use at your own risk.\n",
            "  UserWarning)\n",
            "/usr/local/lib/python3.6/dist-packages/sklearn/base.py:318: UserWarning: Trying to unpickle estimator Pipeline from version 0.21.3 when using version 0.22.2.post1. This might lead to breaking code or invalid results. Use at your own risk.\n",
            "  UserWarning)\n"
          ],
          "name": "stderr"
        }
      ]
    },
    {
      "cell_type": "code",
      "metadata": {
        "id": "LWKL_hrl90Oy",
        "colab_type": "code",
        "colab": {
          "base_uri": "https://localhost:8080/",
          "height": 1000
        },
        "outputId": "9bf53566-0e92-43fc-c0dc-fffb29aad062"
      },
      "source": [
        "valueDictVectorizer"
      ],
      "execution_count": 27,
      "outputs": [
        {
          "output_type": "execute_result",
          "data": {
            "text/plain": [
              "{'is_all_caps': 0,\n",
              " 'is_all_lower': 1,\n",
              " 'is_capitalized': 2,\n",
              " 'is_first': 3,\n",
              " 'is_last': 4,\n",
              " 'next_word=': 5,\n",
              " 'next_word=ada': 6,\n",
              " 'next_word=aku': 7,\n",
              " 'next_word=bandung': 8,\n",
              " 'next_word=bekasi': 9,\n",
              " 'next_word=beli': 10,\n",
              " 'next_word=bersama': 11,\n",
              " 'next_word=bubu': 12,\n",
              " 'next_word=dari': 13,\n",
              " 'next_word=di': 14,\n",
              " 'next_word=dipanggil': 15,\n",
              " 'next_word=dki': 16,\n",
              " 'next_word=dodi': 17,\n",
              " 'next_word=dong': 18,\n",
              " 'next_word=hari': 19,\n",
              " 'next_word=jakarta': 20,\n",
              " 'next_word=jalan': 21,\n",
              " 'next_word=joko': 22,\n",
              " 'next_word=ke': 23,\n",
              " 'next_word=kirana': 24,\n",
              " 'next_word=made': 25,\n",
              " 'next_word=malang': 26,\n",
              " 'next_word=mau': 27,\n",
              " 'next_word=medan': 28,\n",
              " 'next_word=nama': 29,\n",
              " 'next_word=namaku': 30,\n",
              " 'next_word=new': 31,\n",
              " 'next_word=nindya': 32,\n",
              " 'next_word=nur': 33,\n",
              " 'next_word=panggil': 34,\n",
              " 'next_word=pergi': 35,\n",
              " 'next_word=rara': 36,\n",
              " 'next_word=reza': 37,\n",
              " 'next_word=sarah': 38,\n",
              " 'next_word=saya': 39,\n",
              " 'next_word=siti': 40,\n",
              " 'next_word=tanggerang': 41,\n",
              " 'next_word=tercinta': 42,\n",
              " 'next_word=tiket': 43,\n",
              " 'next_word=tinggal': 44,\n",
              " 'next_word=tokyo': 45,\n",
              " 'next_word=xendx': 46,\n",
              " 'next_word=yogya': 47,\n",
              " 'next_word=york': 48,\n",
              " 'next_word=yuk': 49,\n",
              " 'prev_word=': 50,\n",
              " 'prev_word=ada': 51,\n",
              " 'prev_word=aku': 52,\n",
              " 'prev_word=bandung': 53,\n",
              " 'prev_word=bekasi': 54,\n",
              " 'prev_word=beli': 55,\n",
              " 'prev_word=bersama': 56,\n",
              " 'prev_word=bubu': 57,\n",
              " 'prev_word=dari': 58,\n",
              " 'prev_word=di': 59,\n",
              " 'prev_word=dipanggil': 60,\n",
              " 'prev_word=dki': 61,\n",
              " 'prev_word=dodi': 62,\n",
              " 'prev_word=dong': 63,\n",
              " 'prev_word=hari': 64,\n",
              " 'prev_word=jakarta': 65,\n",
              " 'prev_word=jalan': 66,\n",
              " 'prev_word=joko': 67,\n",
              " 'prev_word=ke': 68,\n",
              " 'prev_word=kirana': 69,\n",
              " 'prev_word=made': 70,\n",
              " 'prev_word=malang': 71,\n",
              " 'prev_word=mau': 72,\n",
              " 'prev_word=medan': 73,\n",
              " 'prev_word=nama': 74,\n",
              " 'prev_word=namaku': 75,\n",
              " 'prev_word=new': 76,\n",
              " 'prev_word=nindya': 77,\n",
              " 'prev_word=nur': 78,\n",
              " 'prev_word=panggil': 79,\n",
              " 'prev_word=pergi': 80,\n",
              " 'prev_word=rara': 81,\n",
              " 'prev_word=reza': 82,\n",
              " 'prev_word=sarah': 83,\n",
              " 'prev_word=saya': 84,\n",
              " 'prev_word=siti': 85,\n",
              " 'prev_word=tanggerang': 86,\n",
              " 'prev_word=tercinta': 87,\n",
              " 'prev_word=tiket': 88,\n",
              " 'prev_word=tinggal': 89,\n",
              " 'prev_word=tokyo': 90,\n",
              " 'prev_word=xstartx': 91,\n",
              " 'prev_word=yogya': 92,\n",
              " 'prev_word=york': 93,\n",
              " 'prev_word=yuk': 94}"
            ]
          },
          "metadata": {
            "tags": []
          },
          "execution_count": 27
        }
      ]
    },
    {
      "cell_type": "code",
      "metadata": {
        "id": "xKcTHSscicl8",
        "colab_type": "code",
        "colab": {
          "base_uri": "https://localhost:8080/",
          "height": 1000
        },
        "outputId": "5616c61d-e239-40f3-be5e-e158830b36a2"
      },
      "source": [
        "keyDictVectorizer"
      ],
      "execution_count": 28,
      "outputs": [
        {
          "output_type": "execute_result",
          "data": {
            "text/plain": [
              "['is_all_caps',\n",
              " 'is_all_lower',\n",
              " 'is_capitalized',\n",
              " 'is_first',\n",
              " 'is_last',\n",
              " 'next_word=',\n",
              " 'next_word=ada',\n",
              " 'next_word=aku',\n",
              " 'next_word=bandung',\n",
              " 'next_word=bekasi',\n",
              " 'next_word=beli',\n",
              " 'next_word=bersama',\n",
              " 'next_word=bubu',\n",
              " 'next_word=dari',\n",
              " 'next_word=di',\n",
              " 'next_word=dipanggil',\n",
              " 'next_word=dki',\n",
              " 'next_word=dodi',\n",
              " 'next_word=dong',\n",
              " 'next_word=hari',\n",
              " 'next_word=jakarta',\n",
              " 'next_word=jalan',\n",
              " 'next_word=joko',\n",
              " 'next_word=ke',\n",
              " 'next_word=kirana',\n",
              " 'next_word=made',\n",
              " 'next_word=malang',\n",
              " 'next_word=mau',\n",
              " 'next_word=medan',\n",
              " 'next_word=nama',\n",
              " 'next_word=namaku',\n",
              " 'next_word=new',\n",
              " 'next_word=nindya',\n",
              " 'next_word=nur',\n",
              " 'next_word=panggil',\n",
              " 'next_word=pergi',\n",
              " 'next_word=rara',\n",
              " 'next_word=reza',\n",
              " 'next_word=sarah',\n",
              " 'next_word=saya',\n",
              " 'next_word=siti',\n",
              " 'next_word=tanggerang',\n",
              " 'next_word=tercinta',\n",
              " 'next_word=tiket',\n",
              " 'next_word=tinggal',\n",
              " 'next_word=tokyo',\n",
              " 'next_word=xendx',\n",
              " 'next_word=yogya',\n",
              " 'next_word=york',\n",
              " 'next_word=yuk',\n",
              " 'prev_word=',\n",
              " 'prev_word=ada',\n",
              " 'prev_word=aku',\n",
              " 'prev_word=bandung',\n",
              " 'prev_word=bekasi',\n",
              " 'prev_word=beli',\n",
              " 'prev_word=bersama',\n",
              " 'prev_word=bubu',\n",
              " 'prev_word=dari',\n",
              " 'prev_word=di',\n",
              " 'prev_word=dipanggil',\n",
              " 'prev_word=dki',\n",
              " 'prev_word=dodi',\n",
              " 'prev_word=dong',\n",
              " 'prev_word=hari',\n",
              " 'prev_word=jakarta',\n",
              " 'prev_word=jalan',\n",
              " 'prev_word=joko',\n",
              " 'prev_word=ke',\n",
              " 'prev_word=kirana',\n",
              " 'prev_word=made',\n",
              " 'prev_word=malang',\n",
              " 'prev_word=mau',\n",
              " 'prev_word=medan',\n",
              " 'prev_word=nama',\n",
              " 'prev_word=namaku',\n",
              " 'prev_word=new',\n",
              " 'prev_word=nindya',\n",
              " 'prev_word=nur',\n",
              " 'prev_word=panggil',\n",
              " 'prev_word=pergi',\n",
              " 'prev_word=rara',\n",
              " 'prev_word=reza',\n",
              " 'prev_word=sarah',\n",
              " 'prev_word=saya',\n",
              " 'prev_word=siti',\n",
              " 'prev_word=tanggerang',\n",
              " 'prev_word=tercinta',\n",
              " 'prev_word=tiket',\n",
              " 'prev_word=tinggal',\n",
              " 'prev_word=tokyo',\n",
              " 'prev_word=xstartx',\n",
              " 'prev_word=yogya',\n",
              " 'prev_word=york',\n",
              " 'prev_word=yuk']"
            ]
          },
          "metadata": {
            "tags": []
          },
          "execution_count": 28
        }
      ]
    },
    {
      "cell_type": "code",
      "metadata": {
        "id": "gbeRnXkIpp1i",
        "colab_type": "code",
        "colab": {
          "base_uri": "https://localhost:8080/",
          "height": 1000
        },
        "outputId": "bc9f4bd2-232f-46ed-c28b-8833422856b3"
      },
      "source": [
        "arrayLR"
      ],
      "execution_count": 29,
      "outputs": [
        {
          "output_type": "execute_result",
          "data": {
            "text/plain": [
              "array([[ 0.57969199, -0.57957599,  0.57969199,  0.28915014,  0.29054185,\n",
              "         0.29054185,  0.08065201,  0.20969847,  0.14212859,  0.32505949,\n",
              "         0.02291992, -0.69759718,  0.08065201, -1.30576246,  0.90550609,\n",
              "         0.08065201,  0.230607  ,  0.19771668, -0.45399797,  0.19771668,\n",
              "        -0.03073248,  0.230607  ,  0.39053896,  0.62191717,  0.08065201,\n",
              "         0.08065201,  0.230607  ,  0.08065201,  0.230607  ,  0.04459989,\n",
              "         0.10348383,  0.230607  , -0.3581488 , -0.71389899,  0.02291992,\n",
              "         0.08065201,  0.08065201,  0.230607  ,  0.08065201,  0.08065201,\n",
              "         0.230607  ,  0.14212859, -0.35768247,  0.08065201, -0.56734748,\n",
              "         0.12334711, -1.55190097,  0.14212859, -0.36950807,  0.02291992,\n",
              "         0.28915014,  0.30391033, -0.1660927 ,  0.02283813,  0.78932645,\n",
              "         0.15748129, -0.40040683,  0.11720869, -0.82256024, -0.94442001,\n",
              "        -0.40040683, -0.51839171,  0.02283813,  0.02283813,  0.230607  ,\n",
              "         0.86576554,  0.230607  ,  0.02283813, -1.09243817,  0.11720869,\n",
              "        -0.45532061,  0.02283813,  0.230607  ,  0.21138658,  0.39543337,\n",
              "        -1.1507148 , -0.69759718,  0.02283813,  0.02283813,  0.230607  ,\n",
              "         0.15748129,  0.11720869,  0.02283813,  0.11720869, -0.40040683,\n",
              "        -0.45532061,  0.02283813,  0.02283813,  0.230607  ,  0.72733378,\n",
              "         0.02283813,  1.24978245,  0.02283813,  0.230607  ,  0.230607  ],\n",
              "       [-0.19431492,  0.19423476, -0.19431492, -0.09688104, -0.09743388,\n",
              "        -0.09743388, -0.0290525 , -0.07321045, -0.04966411, -0.11590213,\n",
              "        -0.0077148 , -0.17581047, -0.0290525 ,  0.1656004 , -0.25305706,\n",
              "        -0.0290525 , -0.08375708, -0.07136676,  0.61624206, -0.07136676,\n",
              "         0.42877955, -0.08375708, -0.06782773, -0.17031236, -0.0290525 ,\n",
              "        -0.0290525 , -0.08375708, -0.0290525 , -0.08375708, -0.01499575,\n",
              "        -0.03469149, -0.08375708, -0.09530108, -0.08887994, -0.0077148 ,\n",
              "        -0.0290525 , -0.0290525 , -0.08375708, -0.0290525 , -0.0290525 ,\n",
              "        -0.08375708, -0.04966411,  0.47589539, -0.0290525 , -0.26102652,\n",
              "        -0.04339423,  0.49140572, -0.04966411,  0.53458709, -0.0077148 ,\n",
              "        -0.09688104, -0.15121191, -0.45259579, -0.0076855 , -0.2872254 ,\n",
              "        -0.0596029 , -0.30246225, -0.04462072,  1.64354402,  2.09334494,\n",
              "        -0.30246225, -0.25961748, -0.0076855 , -0.0076855 , -0.08375708,\n",
              "        -0.31255727, -0.08375708, -0.0076855 ,  1.80289228, -0.04462072,\n",
              "        -0.34738922, -0.0076855 , -0.08375708, -0.0765857 , -0.14273351,\n",
              "        -0.31560982, -0.17581047, -0.0076855 , -0.0076855 , -0.08375708,\n",
              "        -0.0596029 , -0.04462072, -0.0076855 , -0.04462072, -0.30246225,\n",
              "        -0.34738922, -0.0076855 , -0.0076855 , -0.08375708, -0.28119722,\n",
              "        -0.0076855 , -0.4094563 , -0.0076855 , -0.08375708, -0.08375708],\n",
              "       [-0.2014617 ,  0.20135872, -0.2014617 , -0.1004673 , -0.10099441,\n",
              "        -0.10099441, -0.02820914, -0.07268075, -0.05404051, -0.12345187,\n",
              "        -0.00800208, -0.18446933, -0.02820914,  0.40941249, -0.45169215,\n",
              "        -0.02820914, -0.08856201, -0.07529686, -0.08827729, -0.07529686,\n",
              "        -0.22454928, -0.08856201, -0.26765741, -0.32160717, -0.02820914,\n",
              "        -0.02820914, -0.08856201, -0.02820914, -0.08856201, -0.01554995,\n",
              "        -0.03594797, -0.08856201,  0.52877225,  0.87576801, -0.00800208,\n",
              "        -0.02820914, -0.02820914, -0.08856201, -0.02820914, -0.02820914,\n",
              "        -0.08856201, -0.05404051, -0.06180387, -0.02820914,  1.05558972,\n",
              "        -0.04558393,  0.48486433, -0.05404051, -0.09328829, -0.00800208,\n",
              "        -0.1004673 , -0.08933934,  1.05470251, -0.007972  , -0.30058878,\n",
              "        -0.05498716,  0.91546115, -0.03929598, -0.46940522, -0.63984248,\n",
              "         0.91546115, -0.32972243, -0.007972  , -0.007972  , -0.08856201,\n",
              "        -0.326959  , -0.08856201, -0.007972  , -0.38925795, -0.03929598,\n",
              "        -0.36285958, -0.007972  , -0.08856201, -0.08080683, -0.15059372,\n",
              "         1.73166582, -0.18446933, -0.007972  , -0.007972  , -0.08856201,\n",
              "        -0.05498716, -0.03929598, -0.007972  , -0.03929598,  0.91546115,\n",
              "        -0.36285958, -0.007972  , -0.007972  , -0.08856201, -0.25760489,\n",
              "        -0.007972  , -0.50532201, -0.007972  , -0.08856201, -0.08856201],\n",
              "       [-0.1074676 ,  0.10762306, -0.1074676 , -0.05353806, -0.05392953,\n",
              "        -0.05392953, -0.01398161, -0.03769827, -0.02318069, -0.05184417,\n",
              "        -0.0042085 ,  1.11197893, -0.01398161,  0.86644286, -0.1189049 ,\n",
              "        -0.01398161, -0.03545723, -0.03096624, -0.04715368, -0.03096624,\n",
              "        -0.10258945, -0.03545723, -0.03174364, -0.07732487, -0.01398161,\n",
              "        -0.01398161, -0.03545723, -0.01398161, -0.03545723, -0.00820741,\n",
              "        -0.0191554 , -0.03545723, -0.04510846, -0.04203903, -0.0042085 ,\n",
              "        -0.01398161, -0.01398161, -0.03545723, -0.01398161, -0.01398161,\n",
              "        -0.03545723, -0.02318069, -0.03699319, -0.01398161, -0.13447145,\n",
              "        -0.02174054, -0.5615578 , -0.02318069, -0.04170618, -0.0042085 ,\n",
              "        -0.05353806, -0.03824656, -0.29237272, -0.00419384, -0.05024979,\n",
              "        -0.02600259, -0.05210657, -0.02010151, -0.11581118, -0.15563567,\n",
              "        -0.05210657,  1.16449786, -0.00419384, -0.00419384, -0.03545723,\n",
              "        -0.06909039, -0.03545723, -0.00419384, -0.22450272, -0.02010151,\n",
              "        -0.06197096, -0.00419384, -0.03545723, -0.03278991, -0.06193247,\n",
              "        -0.15767458,  1.11197893, -0.00419384, -0.00419384, -0.03545723,\n",
              "        -0.02600259, -0.02010151, -0.00419384, -0.02010151, -0.05210657,\n",
              "        -0.06197096, -0.00419384, -0.00419384, -0.03545723, -0.11342618,\n",
              "        -0.00419384, -0.19985152, -0.00419384, -0.03545723, -0.03545723],\n",
              "       [-0.07644777,  0.07635946, -0.07644777, -0.03826375, -0.03818403,\n",
              "        -0.03818403, -0.00940877, -0.026109  , -0.01524328, -0.03386132,\n",
              "        -0.00299455, -0.05410194, -0.00940877, -0.1356933 , -0.08185198,\n",
              "        -0.00940877, -0.02283067, -0.02008683, -0.02681313, -0.02008683,\n",
              "        -0.07090834, -0.02283067, -0.02331018, -0.05267277, -0.00940877,\n",
              "        -0.00940877, -0.02283067, -0.00940877, -0.02283067, -0.00584677,\n",
              "        -0.01368898, -0.02283067, -0.03021391, -0.03095005, -0.00299455,\n",
              "        -0.00940877, -0.00940877, -0.02283067, -0.00940877, -0.00940877,\n",
              "        -0.02283067, -0.01524328, -0.01941586, -0.00940877, -0.09274427,\n",
              "        -0.01262841,  1.13718872, -0.01524328, -0.03008455, -0.00299455,\n",
              "        -0.03826375, -0.02511252, -0.14364131, -0.00298679, -0.15126247,\n",
              "        -0.01688863, -0.1604855 , -0.01319048, -0.23576738, -0.35344679,\n",
              "        -0.1604855 , -0.05676624, -0.00298679, -0.00298679, -0.02283067,\n",
              "        -0.15715888, -0.02283067, -0.00298679, -0.09669344, -0.01319048,\n",
              "         1.22754037, -0.00298679, -0.02283067, -0.02120415, -0.04017366,\n",
              "        -0.10766662, -0.05410194, -0.00298679, -0.00298679, -0.02283067,\n",
              "        -0.01688863, -0.01319048, -0.00298679, -0.01319048, -0.1604855 ,\n",
              "         1.22754037, -0.00298679, -0.00298679, -0.02283067, -0.07510548,\n",
              "        -0.00298679, -0.13515263, -0.00298679, -0.02283067, -0.02283067]])"
            ]
          },
          "metadata": {
            "tags": []
          },
          "execution_count": 29
        }
      ]
    },
    {
      "cell_type": "code",
      "metadata": {
        "id": "uMmijSAjqEb2",
        "colab_type": "code",
        "colab": {
          "base_uri": "https://localhost:8080/",
          "height": 34
        },
        "outputId": "f338130a-5b60-4121-bf4a-be9994d3ac9d"
      },
      "source": [
        "classLR"
      ],
      "execution_count": 30,
      "outputs": [
        {
          "output_type": "execute_result",
          "data": {
            "text/plain": [
              "array(['', 'Blocation', 'Bperson', 'Ilocation', 'Iperson'], dtype='<U9')"
            ]
          },
          "metadata": {
            "tags": []
          },
          "execution_count": 30
        }
      ]
    },
    {
      "cell_type": "code",
      "metadata": {
        "id": "xcDM3Un4-ZQe",
        "colab_type": "code",
        "colab": {}
      },
      "source": [
        ""
      ],
      "execution_count": 0,
      "outputs": []
    }
  ]
}